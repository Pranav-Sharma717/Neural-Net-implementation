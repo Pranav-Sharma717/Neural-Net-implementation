{
 "cells": [
  {
   "cell_type": "code",
   "execution_count": 1,
   "id": "635be2eb-20f9-4482-892a-8f9cd42bb448",
   "metadata": {},
   "outputs": [],
   "source": [
    "words = open('names.txt','r').read().splitlines()"
   ]
  },
  {
   "cell_type": "code",
   "execution_count": 2,
   "id": "fa76c382-5f1c-4a6c-af75-c18b8093fd39",
   "metadata": {},
   "outputs": [
    {
     "data": {
      "text/plain": [
       "['emma',\n",
       " 'olivia',\n",
       " 'ava',\n",
       " 'isabella',\n",
       " 'sophia',\n",
       " 'charlotte',\n",
       " 'mia',\n",
       " 'amelia',\n",
       " 'harper',\n",
       " 'evelyn']"
      ]
     },
     "execution_count": 2,
     "metadata": {},
     "output_type": "execute_result"
    }
   ],
   "source": [
    "words[:10]"
   ]
  },
  {
   "cell_type": "code",
   "execution_count": 3,
   "id": "7fcd2679-b7a9-4a9a-a6f3-40c8b9aaa894",
   "metadata": {},
   "outputs": [
    {
     "data": {
      "text/plain": [
       "32033"
      ]
     },
     "execution_count": 3,
     "metadata": {},
     "output_type": "execute_result"
    }
   ],
   "source": [
    "len(words)"
   ]
  },
  {
   "cell_type": "code",
   "execution_count": 10,
   "id": "732aa39e-39bb-49e5-b75c-469cf28c790f",
   "metadata": {},
   "outputs": [
    {
     "name": "stdout",
     "output_type": "stream",
     "text": [
      "2\n"
     ]
    },
    {
     "data": {
      "text/plain": [
       "15"
      ]
     },
     "execution_count": 10,
     "metadata": {},
     "output_type": "execute_result"
    }
   ],
   "source": [
    "print(min(len(w)for w in words))#length of shortest name\n",
    "max(len(w) for w in words)#length of longest name"
   ]
  },
  {
   "cell_type": "code",
   "execution_count": 6,
   "id": "475f9c1c-616f-43d3-8d55-933755348257",
   "metadata": {},
   "outputs": [],
   "source": [
    "#Bigram language model (We will only predict one character after talking one character in the input)\n",
    "# Example : what character will follow a...etc\n"
   ]
  },
  {
   "cell_type": "code",
   "execution_count": 9,
   "id": "79682d2d-8017-4a30-bc58-ea8477413a02",
   "metadata": {},
   "outputs": [
    {
     "name": "stdout",
     "output_type": "stream",
     "text": [
      "e m\n",
      "m m\n",
      "m a\n"
     ]
    }
   ],
   "source": [
    "for w in words[:1]:\n",
    "    for ch1, ch2 in zip(w,w[1:]): #W is string emma, w[1:] is mma and zip takes two iterators and pairs them up with couple of entries\n",
    "        print(ch1,ch2)"
   ]
  },
  {
   "cell_type": "code",
   "execution_count": 12,
   "id": "5578c937-92a9-460c-9192-aede691ddad9",
   "metadata": {},
   "outputs": [
    {
     "name": "stdout",
     "output_type": "stream",
     "text": [
      "<S> e\n",
      "e m\n",
      "m m\n",
      "m a\n",
      "a <E>\n"
     ]
    }
   ],
   "source": [
    "#Creating a special array of character and HALLUCINATE special start\n",
    "for w in words[:1]:\n",
    "    chs = ['<S>'] + list(w) + ['<E>'] \n",
    "    for ch1, ch2 in zip(chs,chs[1:]):\n",
    "        print(ch1,ch2)"
   ]
  },
  {
   "cell_type": "code",
   "execution_count": null,
   "id": "39b0b10e-4d31-40f2-b49a-9b2dc2317ffa",
   "metadata": {},
   "outputs": [],
   "source": [
    "#To learn the statistic of probability distribution of what next character will be, we will use count(in bigram) how often the letter comes after a letter in training set\n",
    "b={}\n",
    "for w in words[:1]:\n",
    "    chs = ['<S>'] + list(w) + ['<E>'] \n",
    "    for ch1, ch2 in zip(chs,chs[1:]):\n",
    "        bigram = (ch1,ch2)\n",
    "        b[bigram]=b.get(bigram,0) +1 #Will add up all the bigrams and add up \n",
    "        print(ch1,ch2)\n"
   ]
  }
 ],
 "metadata": {
  "kernelspec": {
   "display_name": "Python 3 (ipykernel)",
   "language": "python",
   "name": "python3"
  },
  "language_info": {
   "codemirror_mode": {
    "name": "ipython",
    "version": 3
   },
   "file_extension": ".py",
   "mimetype": "text/x-python",
   "name": "python",
   "nbconvert_exporter": "python",
   "pygments_lexer": "ipython3",
   "version": "3.12.3"
  }
 },
 "nbformat": 4,
 "nbformat_minor": 5
}
